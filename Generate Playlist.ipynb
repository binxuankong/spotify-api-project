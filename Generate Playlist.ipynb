{
 "cells": [
  {
   "cell_type": "code",
   "execution_count": 12,
   "metadata": {},
   "outputs": [],
   "source": [
    "import pandas as pd\n",
    "from secrets import localhost_db\n",
    "from sqlalchemy import create_engine\n",
    "from queries import *"
   ]
  },
  {
   "cell_type": "code",
   "execution_count": 11,
   "metadata": {},
   "outputs": [],
   "source": [
    "DATABASE_URL = localhost_db\n",
    "TF_WEIGHTS = {0: 6, 1: 5, 2: 4}\n",
    "MU_WEIGHTS = {'artist': 4, 'track': 1, 'genre': 6, 'feature': 2}\n",
    "\n",
    "def get_user_from_code(code):\n",
    "    try:\n",
    "        code_parts = code.split('-')\n",
    "        if len(code_parts) != 3 or code_parts[0] not in ADJECTIVES or code_parts[1] not in NOUNS or not (0 < int(code_parts[2]) < 100):\n",
    "            return None\n",
    "        engine = create_engine(DATABASE_URL)\n",
    "        df_u = pd.read_sql('SELECT user_id FROM \"UserProfiles\" WHERE code = %(code)s', engine, params={'code': code})\n",
    "        if len(df_u) != 1:\n",
    "            return None\n",
    "        return df_u['user_id'].item()\n",
    "    except:\n",
    "        return None\n",
    "\n",
    "def compare_users(u1, u2):\n",
    "    # Get data\n",
    "    engine = create_engine(DATABASE_URL)\n",
    "    users = pd.read_sql(users2_query, engine, params={'user_ids': (u1, u2)})\n",
    "    df_a = pd.read_sql(top_artists2_query, engine, params={'user_ids': (u1, u2)})\n",
    "    df_t = pd.read_sql(top_tracks2_query, engine, params={'user_ids': (u1, u2)})\n",
    "    df_g = pd.read_sql(top_genres2_query, engine, params={'user_ids': (u1, u2)})\n",
    "    df_m = df_t.groupby(['user_id', 'timeframe']).mean().reset_index()\n",
    "    # User 1\n",
    "    u1_a = df_a.loc[df_a['user_id'] == u1]\n",
    "    u1_t = df_t.loc[df_t['user_id'] == u1]\n",
    "    u1_g = df_g.loc[df_g['user_id'] == u1]\n",
    "    u1_m = df_m.loc[df_m['user_id'] == u1]\n",
    "    # User 2\n",
    "    u2_a = df_a.loc[df_a['user_id'] == u2]\n",
    "    u2_t = df_t.loc[df_t['user_id'] == u2]\n",
    "    u2_g = df_g.loc[df_g['user_id'] == u2]\n",
    "    u2_m = df_m.loc[df_m['user_id'] == u2]\n",
    "    # Initialization\n",
    "    final_points = 0\n",
    "    similar_artists = pd.DataFrame()\n",
    "    similar_tracks = pd.DataFrame()\n",
    "    similar_genres = pd.DataFrame()\n",
    "    # Compare\n",
    "    for timeframe in TF_WEIGHTS.keys():\n",
    "        tf_points = 0\n",
    "        # Artist\n",
    "        df_artist = get_artist_similarity(u1_a, u2_a, timeframe)\n",
    "        tf_points += MU_WEIGHTS['artist'] * calculate_similarity(df_artist)\n",
    "        df_artist = df_artist.loc[df_artist['points'] > 0].sort_values(by='points', ascending=False)\n",
    "        df_artist['rank'] = df_artist.reset_index().index + 1\n",
    "        similar_artists = similar_artists.append(df_artist)\n",
    "        # Track\n",
    "        df_track = get_track_similarity(u1_t, u2_t, timeframe)\n",
    "        tf_points += MU_WEIGHTS['track'] * calculate_similarity(df_track)\n",
    "        similar_tracks = similar_tracks.append(df_track.loc[df_track['points'] > 0])\n",
    "        # Genre\n",
    "        df_genre = get_genre_similarity(u1_g, u2_g, timeframe)\n",
    "        tf_points += MU_WEIGHTS['genre'] * calculate_similarity(df_genre)\n",
    "        similar_genres = similar_genres.append(df_genre.loc[df_genre['points'] > 0])\n",
    "        # Features\n",
    "        tf_points += MU_WEIGHTS['feature'] * calculate_feature_similarity(u1_m, u2_m, timeframe)\n",
    "        # Timeframe overall points\n",
    "        tf_points /= sum(MU_WEIGHTS.values())\n",
    "        final_points += TF_WEIGHTS[timeframe] * tf_points\n",
    "    # Final similarity score\n",
    "    final_points /= sum(TF_WEIGHTS.values())\n",
    "    return final_points, users, similar_artists, similar_tracks, similar_genres\n",
    "\n",
    "def get_similar_users(user_id):\n",
    "    df_u = pd.read_sql(similar_users_query, engine, params={'user_id': user_id})\n",
    "    users = [user_id] + df_u['user_id'].tolist()\n",
    "    df_a = pd.read_sql(top_artists2_query, engine, params={'user_ids': tuple(users)})\n",
    "    df_t = pd.read_sql(top_tracks2_query, engine, params={'user_ids': tuple(users)})\n",
    "    df_g = pd.read_sql(top_genres2_query, engine, params={'user_ids': tuple(users)})\n",
    "    df_m = pd.read_sql(music_features2_query, engine, params={'user_ids': tuple(users)})\n",
    "    # User\n",
    "    u1_a = df_a.loc[df_a['user_id'] == user_id]\n",
    "    u1_t = df_t.loc[df_t['user_id'] == user_id]\n",
    "    u1_g = df_g.loc[df_g['user_id'] == user_id]\n",
    "    u1_m = df_m.loc[df_m['user_id'] == user_id]\n",
    "    dict_list = []\n",
    "    # For each other user\n",
    "    for _, row in df_u.iterrows():\n",
    "        u2 = row['user_id']\n",
    "        u2_a = df_a.loc[df_a['user_id'] == u2]\n",
    "        u2_t = df_t.loc[df_t['user_id'] == u2]\n",
    "        u2_g = df_g.loc[df_g['user_id'] == u2]\n",
    "        u2_m = df_m.loc[df_m['user_id'] == u2]\n",
    "        points = 0\n",
    "        # Compare\n",
    "        for timeframe in TF_WEIGHTS.keys():\n",
    "            tf_points = 0\n",
    "            df_artist = get_artist_similarity(u1_a, u2_a, timeframe)\n",
    "            tf_points += MU_WEIGHTS['artist'] * calculate_similarity(df_artist)\n",
    "            df_track = get_track_similarity(u1_t, u2_t, timeframe)\n",
    "            tf_points += MU_WEIGHTS['track'] * calculate_similarity(df_track)\n",
    "            df_genre = get_genre_similarity(u1_g, u2_g, timeframe)\n",
    "            tf_points += MU_WEIGHTS['genre'] * calculate_similarity(df_genre)\n",
    "            tf_points += MU_WEIGHTS['feature'] * calculate_feature_similarity(u1_m, u2_m)\n",
    "            tf_points /= sum(MU_WEIGHTS.values())\n",
    "            points += TF_WEIGHTS[timeframe] * tf_points\n",
    "        # Final similarity score\n",
    "        points /= sum(TF_WEIGHTS.values())\n",
    "        dict_list.append({\n",
    "            'user_id': u2,\n",
    "            'display_name': row['display_name'],\n",
    "            'image_url': row['image_url'],\n",
    "            'points': points\n",
    "        })\n",
    "    return pd.DataFrame.from_dict(dict_list).sort_values(by='points', ascending=False)\n",
    "\n",
    "def get_similar_artists(df_a):\n",
    "    engine = create_engine(DATABASE_URL)\n",
    "    artists = pd.read_sql_query(similar_artists_query, engine, params={'artist_ids': tuple(df_a['artist_id'].tolist())})\n",
    "    engine.dispose()\n",
    "    df = df_a.merge(artists, on=['artist_id'])\n",
    "    return df.sort_values(['timeframe', 'points'], ascending=False)\n",
    "\n",
    "def get_similar_tracks(df_t):\n",
    "    engine = create_engine(DATABASE_URL)\n",
    "    tracks = pd.read_sql_query(similar_tracks_query, engine, params={'track_ids': tuple(df_t['track_id'].tolist())})\n",
    "    engine.dispose()\n",
    "    df = df_t.merge(tracks, on=['track_id'])\n",
    "    return df.sort_values(['timeframe', 'points'], ascending=False)\n",
    "\n",
    "def get_artist_similarity(u1, u2, timeframe):\n",
    "    merge_on = ['artist_id', 'timeframe', 'artist', 'genres', 'artist_url', 'artist_image']\n",
    "    df1 = u1.loc[u1['timeframe'] == timeframe]\n",
    "    df2 = u2.loc[u2['timeframe'] == timeframe]\n",
    "    df = df1.merge(df2, on=merge_on, how='outer').fillna(0)\n",
    "    df['base'] = calculate_points(df[df[['rank_x', 'rank_y']] > 0].min(axis=1))\n",
    "    df.loc[(df['rank_x'] != 0) & (df['rank_y'] != 0), 'points'] = calculate_points(df[['rank_x', 'rank_y']].max(axis=1))\n",
    "    df['points'] = df['points'].fillna(0)\n",
    "    # df = df.rename(columns={'rank_x': u1['user_id'].unique()[0], 'rank_y': u2['user_id'].unique()[0]})\n",
    "    return df\n",
    "\n",
    "def get_track_similarity(u1, u2, timeframe):\n",
    "    audio_features = ['danceability', 'energy', 'loudness', 'acousticness', 'instrumentalness', 'liveness', \\\n",
    "                      'valence', 'tempo']\n",
    "    merge_on = ['track_id', 'timeframe', 'track', 'artists', 'album', 'track_url', 'album_image'] + audio_features\n",
    "    df1 = u1.loc[u1['timeframe'] == timeframe]\n",
    "    df2 = u2.loc[u2['timeframe'] == timeframe]\n",
    "    df = df1.merge(df2, on=merge_on, how='outer').fillna(0)\n",
    "    df['base'] = calculate_points(df[df[['rank_x', 'rank_y']] > 0].min(axis=1))\n",
    "    df.loc[(df['rank_x'] != 0) & (df['rank_y'] != 0), 'points'] = calculate_points(df[['rank_x', 'rank_y']].max(axis=1))\n",
    "    df['points'] = df['points'].fillna(0)\n",
    "    # df = df.rename(columns={'rank_x': u1['user_id'].unique()[0], 'rank_y': u2['user_id'].unique()[0]})\n",
    "    return df\n",
    "\n",
    "def get_genre_similarity(u1, u2, timeframe):\n",
    "    df1 = u1.loc[u1['timeframe'] == timeframe]\n",
    "    df2 = u2.loc[u2['timeframe'] == timeframe]\n",
    "    df = df1.merge(df2, on=['genre', 'timeframe'], how='outer').fillna(0)\n",
    "    df['base'] = calculate_points(df[df[['rank_x', 'rank_y']] > 0].min(axis=1))\n",
    "    df.loc[(df['rank_x'] != 0) & (df['rank_y'] != 0), 'points'] = calculate_points(df[df[['rank_x', 'rank_y']] > 0].max(axis=1))\n",
    "    df['points'] = df['points'].fillna(0)\n",
    "    # df = df.rename(columns={'rank_x': u1['user_id'].unique()[0], 'rank_y': u2['user_id'].unique()[0]})\n",
    "    return df.sort_values(['timeframe', 'points'], ascending=False)\n",
    "\n",
    "def calculate_similarity(df):\n",
    "    base_score = df.loc[(df['rank_x'] != 0) & (df['rank_y'] != 0)].sum()['base']\n",
    "    base_score += df.loc[(df['rank_x'] == 0) | (df['rank_y'] == 0)].sum()['base'] / 2\n",
    "    return round(df.sum()['points'] / base_score, 4)\n",
    "\n",
    "def calculate_feature_similarity(u1, u2, timeframe):\n",
    "    features1 = u1.loc[u1['timeframe'] == timeframe].drop(columns=['user_id', 'timeframe']).values.tolist()[0]\n",
    "    features2 = u2.loc[u2['timeframe'] == timeframe].drop(columns=['user_id', 'timeframe']).values.tolist()[0]\n",
    "    points = []\n",
    "    for i in range(len(features1)):\n",
    "        f1 = abs(features1[i])\n",
    "        f2 = abs(features2[i])\n",
    "        points.append(min(f1, f2) / max(f1, f2))\n",
    "    return round(sum(points) / len(points), 4)\n",
    "\n",
    "def calculate_points(rank, weight=16, shift=4):\n",
    "    return weight / ((0.1 * rank + shift) ** 2) "
   ]
  },
  {
   "cell_type": "code",
   "execution_count": 3,
   "metadata": {},
   "outputs": [],
   "source": [
    "u1 = '12120382831'\n",
    "u2 = '12153521253'"
   ]
  },
  {
   "cell_type": "code",
   "execution_count": 51,
   "metadata": {},
   "outputs": [],
   "source": [
    "import requests\n",
    "import base64\n",
    "from io import BytesIO\n",
    "from PIL import Image\n",
    "\n",
    "def generate_playlist(u1, u2):\n",
    "    TOTAL_SONGS = 30\n",
    "    # Get data from database\n",
    "    engine = create_engine(DATABASE_URL)\n",
    "    users = pd.read_sql(users2_query, engine, params={'user_ids': (u1, u2)})\n",
    "    df_a = pd.read_sql(top_artists2_query, engine, params={'user_ids': (u1, u2)})\n",
    "    df_t = pd.read_sql(top_tracks2_query, engine, params={'user_ids': (u1, u2)})\n",
    "    # Similar tracks\n",
    "    similar_tracks = df_t.loc[df_t.duplicated(subset=['track_id', 'timeframe'])]\n",
    "    # Split by users\n",
    "    u1_a = df_a.loc[(df_a['user_id'] == u1) & (df_a['rank'] <= 20)]\n",
    "    u1_t = df_t.loc[(df_t['user_id'] == u1) & (df_t['rank'] <= 20)]\n",
    "    u2_a = df_a.loc[(df_a['user_id'] == u2) & (df_a['rank'] <= 20)]\n",
    "    u2_t = df_t.loc[(df_t['user_id'] == u2) & (df_t['rank'] <= 20)]\n",
    "    # Get base playlist\n",
    "    playlist_dicts = get_tracks_weight(u1_t, u2_a)\n",
    "    playlist_dicts.extend(get_tracks_weight(u2_t, u1_a))\n",
    "    df_p = pd.DataFrame.from_dict(playlist_dicts).sort_values(by='weight', ascending=False)\n",
    "    df_p = df_p.loc[~df_p['track_id'].isin(similar_tracks['track_id'])].drop_duplicates(subset=['track_id'])\n",
    "    # Final playlist\n",
    "    df_f = similar_tracks.drop_duplicates().rename(columns={'points': 'weight'})\n",
    "    df_f = df_f[['track_id', 'track', 'artists', 'album', 'track_url', 'album_image']]\n",
    "    n_sample = TOTAL_SONGS - len(df_f)\n",
    "    df_f = df_f.append(df_p.sample(weights=df_p['weight'], n=n_sample).sort_values(by='weight', ascending=False))\n",
    "    # Playlist name\n",
    "    code1 = users.loc[users['user_id'] == u1]['code'].item()\n",
    "    code2 = users.loc[users['user_id'] == u2]['code'].item()\n",
    "    p_name = code1.split('-')[0] + ' ' + code2.split('-')[0] + ' ' + code1.split('-')[1]\n",
    "    if p_name[0] in ['a', 'e', 'i', 'o' 'u']:\n",
    "        p_name = 'An ' + p_name\n",
    "    else:\n",
    "        p_name = 'A ' + p_name\n",
    "    p_name = p_name.title() + '\\'s Playlist'\n",
    "    # Playlist description\n",
    "    name1 = users.loc[users['user_id'] == u1]['display_name'].item()\n",
    "    name2 = users.loc[users['user_id'] == u2]['display_name'].item()\n",
    "    p_desc = \"A playlist created for \" + name1 + \" and \" + name2 + \" by Soundbud.\"\n",
    "    # Playlist image\n",
    "    p_img = create_playlist_image(df_f)\n",
    "    p_img_str = convert_to_jpeg(p_img)\n",
    "    return df_f['track_id'].tolist(), p_name, p_desc, p_img_str\n",
    "\n",
    "def create_playlist_image(df):\n",
    "    p_img = Image.new('RGB', (400, 400))\n",
    "    i = 0\n",
    "    count = 0\n",
    "    img_used = []\n",
    "    while True and count <= 10:\n",
    "        this_url = df['album_image'].iloc[count]\n",
    "        if this_url not in img_used:\n",
    "            img_used.append(this_url)\n",
    "            img = Image.open(requests.get(this_url, stream=True).raw)\n",
    "            img.thumbnail((400, 400))\n",
    "            if i == 0:\n",
    "                p_img.paste(img.crop((0, 0, 200, 200)), (0, 0))\n",
    "            elif i == 1:\n",
    "                p_img.paste(img.crop((200, 0, 400, 200)), (200, 0))\n",
    "            elif i == 2:\n",
    "                p_img.paste(img.crop((0, 200, 200, 400)), (0, 200))\n",
    "            elif i == 3:\n",
    "                p_img.paste(img.crop((200, 200, 400, 400)), (200, 200))\n",
    "                break\n",
    "            i += 1\n",
    "        count += 1\n",
    "    logo = Image.open('rect1822.png')\n",
    "    logo.thumbnail((400, 400))\n",
    "    p_img.paste(logo, (0, 0), logo)\n",
    "    return p_img\n",
    "\n",
    "def convert_to_jpeg(img):\n",
    "    buffered = BytesIO()\n",
    "    img.save(buffered, format=\"JPEG\")\n",
    "    img_str = base64.b64encode(buffered.getvalue())\n",
    "    return img_str\n",
    "\n",
    "def get_tracks_weight(user_t, other_a):\n",
    "    dict_list = []\n",
    "    for _, t in user_t.iterrows():\n",
    "        weight = 21 - t['rank']\n",
    "        artist = t['artists'].split(';')[0]\n",
    "        if other_a['artist'].str.contains(artist).any():\n",
    "            weight += 26 - other_a.loc[other_a['artist'].str.contains(artist)]['rank'].mean()\n",
    "        dict_list.append({\n",
    "            'track_id': t['track_id'],\n",
    "            'track': t['track'],\n",
    "            'artists': t['artists'],\n",
    "            'album': t['album'],\n",
    "            'track_url': t['track_url'],\n",
    "            'album_image': t['album_image'],\n",
    "            'weight': weight\n",
    "        })\n",
    "    return dict_list"
   ]
  },
  {
   "cell_type": "code",
   "execution_count": 54,
   "metadata": {},
   "outputs": [
    {
     "data": {
      "text/plain": [
       "30"
      ]
     },
     "execution_count": 54,
     "metadata": {},
     "output_type": "execute_result"
    }
   ],
   "source": [
    "tracks, p_name, p_desc, p_img = generate_playlist(u1, u2)\n",
    "len(tracks)"
   ]
  },
  {
   "cell_type": "code",
   "execution_count": 46,
   "metadata": {},
   "outputs": [
    {
     "data": {
      "text/plain": [
       "\"A Good Real Plane's Playlist\""
      ]
     },
     "execution_count": 46,
     "metadata": {},
     "output_type": "execute_result"
    }
   ],
   "source": [
    "p_name"
   ]
  },
  {
   "cell_type": "code",
   "execution_count": 47,
   "metadata": {},
   "outputs": [
    {
     "data": {
      "text/plain": [
       "'A playlist created for Bin Xuan Kong and Thivya Dharishinie by Soundbud.'"
      ]
     },
     "execution_count": 47,
     "metadata": {},
     "output_type": "execute_result"
    }
   ],
   "source": [
    "p_desc"
   ]
  },
  {
   "cell_type": "code",
   "execution_count": 49,
   "metadata": {},
   "outputs": [],
   "source": [
    "import spotipy\n",
    "from secrets import spotify_secrets\n",
    "from spotipy.oauth2 import SpotifyOAuth\n",
    "\n",
    "sp = spotipy.Spotify(auth_manager=SpotifyOAuth(client_id=spotify_secrets[\"Client Id\"],\n",
    "                                               client_secret=spotify_secrets[\"Client Secret\"],\n",
    "                                               redirect_uri=\"http://localhost:8892/callback\",\n",
    "                                               scope=\"playlist-modify-public ugc-image-upload\"))"
   ]
  },
  {
   "cell_type": "code",
   "execution_count": 50,
   "metadata": {},
   "outputs": [
    {
     "data": {
      "text/plain": [
       "{'collaborative': False,\n",
       " 'description': 'A playlist created for Bin Xuan Kong and Thivya Dharishinie by Soundbud.',\n",
       " 'external_urls': {'spotify': 'https://open.spotify.com/playlist/60jsiHcnpZR1oA3LDilSVZ'},\n",
       " 'followers': {'href': None, 'total': 0},\n",
       " 'href': 'https://api.spotify.com/v1/playlists/60jsiHcnpZR1oA3LDilSVZ',\n",
       " 'id': '60jsiHcnpZR1oA3LDilSVZ',\n",
       " 'images': [],\n",
       " 'name': \"A Good Real Plane's Playlist\",\n",
       " 'owner': {'display_name': 'Bin Xuan Kong',\n",
       "  'external_urls': {'spotify': 'https://open.spotify.com/user/12120382831'},\n",
       "  'href': 'https://api.spotify.com/v1/users/12120382831',\n",
       "  'id': '12120382831',\n",
       "  'type': 'user',\n",
       "  'uri': 'spotify:user:12120382831'},\n",
       " 'primary_color': None,\n",
       " 'public': True,\n",
       " 'snapshot_id': 'MSw5ODMxOGQ3YzBkZDg4MjY3ODkyNzdhYzZiZTJjNjg3ZDM0Y2EwYzkx',\n",
       " 'tracks': {'href': 'https://api.spotify.com/v1/playlists/60jsiHcnpZR1oA3LDilSVZ/tracks',\n",
       "  'items': [],\n",
       "  'limit': 100,\n",
       "  'next': None,\n",
       "  'offset': 0,\n",
       "  'previous': None,\n",
       "  'total': 0},\n",
       " 'type': 'playlist',\n",
       " 'uri': 'spotify:playlist:60jsiHcnpZR1oA3LDilSVZ'}"
      ]
     },
     "execution_count": 50,
     "metadata": {},
     "output_type": "execute_result"
    }
   ],
   "source": [
    "p_snap = sp.user_playlist_create(u1, p_name, public=True, collaborative=False, description=p_desc)\n",
    "p_snap"
   ]
  },
  {
   "cell_type": "code",
   "execution_count": 56,
   "metadata": {},
   "outputs": [
    {
     "data": {
      "text/plain": [
       "{'snapshot_id': 'MyxkZjIyMGViZmFlM2QxNGJmZjQ4ZmE3ZGE4N2JlNTJjNzVkYTk4MDYx'}"
      ]
     },
     "execution_count": 56,
     "metadata": {},
     "output_type": "execute_result"
    }
   ],
   "source": [
    "sp.user_playlist_add_tracks(u1, p_snap['id'], tracks)"
   ]
  },
  {
   "cell_type": "code",
   "execution_count": 57,
   "metadata": {},
   "outputs": [],
   "source": [
    "sp.playlist_upload_cover_image(p_snap['id'], p_img)"
   ]
  },
  {
   "cell_type": "code",
   "execution_count": 58,
   "metadata": {},
   "outputs": [
    {
     "data": {
      "text/html": [
       "<div>\n",
       "<style scoped>\n",
       "    .dataframe tbody tr th:only-of-type {\n",
       "        vertical-align: middle;\n",
       "    }\n",
       "\n",
       "    .dataframe tbody tr th {\n",
       "        vertical-align: top;\n",
       "    }\n",
       "\n",
       "    .dataframe thead th {\n",
       "        text-align: right;\n",
       "    }\n",
       "</style>\n",
       "<table border=\"1\" class=\"dataframe\">\n",
       "  <thead>\n",
       "    <tr style=\"text-align: right;\">\n",
       "      <th></th>\n",
       "      <th>user_id</th>\n",
       "      <th>target_id</th>\n",
       "      <th>playlist_id</th>\n",
       "      <th>playlist_name</th>\n",
       "      <th>date_created</th>\n",
       "    </tr>\n",
       "  </thead>\n",
       "  <tbody>\n",
       "    <tr>\n",
       "      <th>0</th>\n",
       "      <td>12120382831</td>\n",
       "      <td>12153521253</td>\n",
       "      <td>60jsiHcnpZR1oA3LDilSVZ</td>\n",
       "      <td>A Good Real Plane's Playlist</td>\n",
       "      <td>2021-02-01 18:23:50.298969</td>\n",
       "    </tr>\n",
       "  </tbody>\n",
       "</table>\n",
       "</div>"
      ],
      "text/plain": [
       "       user_id    target_id             playlist_id  \\\n",
       "0  12120382831  12153521253  60jsiHcnpZR1oA3LDilSVZ   \n",
       "\n",
       "                  playlist_name               date_created  \n",
       "0  A Good Real Plane's Playlist 2021-02-01 18:23:50.298969  "
      ]
     },
     "execution_count": 58,
     "metadata": {},
     "output_type": "execute_result"
    }
   ],
   "source": [
    "import datetime as dt\n",
    "\n",
    "df_p = pd.DataFrame([\n",
    "    [u1, u2, p_snap['id'], p_name, dt.datetime.now()]\n",
    "], columns=['user_id', 'target_id', 'playlist_id', 'playlist_name', 'date_created'])\n",
    "\n",
    "df_p"
   ]
  },
  {
   "cell_type": "code",
   "execution_count": 59,
   "metadata": {},
   "outputs": [],
   "source": [
    "engine = create_engine(DATABASE_URL)\n",
    "df_p.to_sql('GeneratedPlaylists', engine, index=False, if_exists='replace')\n",
    "engine.dispose()"
   ]
  }
 ],
 "metadata": {
  "kernelspec": {
   "display_name": "Python 3",
   "language": "python",
   "name": "python3"
  },
  "language_info": {
   "codemirror_mode": {
    "name": "ipython",
    "version": 3
   },
   "file_extension": ".py",
   "mimetype": "text/x-python",
   "name": "python",
   "nbconvert_exporter": "python",
   "pygments_lexer": "ipython3",
   "version": "3.8.5"
  }
 },
 "nbformat": 4,
 "nbformat_minor": 4
}
