{
 "cells": [
  {
   "cell_type": "code",
   "execution_count": 1,
   "metadata": {},
   "outputs": [],
   "source": [
    "import pandas as pd\n",
    "from secrets import localhost_db, postgres_db\n",
    "from sqlalchemy import create_engine\n",
    "from queries import *"
   ]
  },
  {
   "cell_type": "code",
   "execution_count": 3,
   "metadata": {},
   "outputs": [],
   "source": [
    "engine = create_engine(postgres_db)\n",
    "df1 = pd.read_sql_table('Artists', engine)\n",
    "df2 = pd.read_sql_table('DailyMix', engine)\n",
    "df3 = pd.read_sql_table('MusicFeatures', engine)\n",
    "df4 = pd.read_sql_table('RecommendArtists', engine)\n",
    "df5 = pd.read_sql_table('RecommendTracks', engine)\n",
    "df6 = pd.read_sql_table('TempArtists', engine)\n",
    "df7 = pd.read_sql_table('TempTracks', engine)\n",
    "df8 = pd.read_sql_table('TopArtists', engine)\n",
    "df9 = pd.read_sql_table('TopTracks', engine)\n",
    "df10 = pd.read_sql_table('TopGenres', engine)\n",
    "df11 = pd.read_sql_table('Tracks', engine)\n",
    "df12 = pd.read_sql_table('UserProfiles', engine)\n",
    "df13 = pd.read_sql_table('Users', engine)\n",
    "engine.dispose()"
   ]
  },
  {
   "cell_type": "code",
   "execution_count": 4,
   "metadata": {},
   "outputs": [],
   "source": [
    "engine = create_engine(localhost_db)\n",
    "df1.to_sql('Artists', engine, index=False, if_exists='replace')\n",
    "df2.to_sql('DailyMix', engine, index=False, if_exists='replace')\n",
    "df3.to_sql('MusicFeatures', engine, index=False, if_exists='replace')\n",
    "df4.to_sql('RecommendArtists', engine, index=False, if_exists='replace')\n",
    "df5.to_sql('RecommendTracks', engine, index=False, if_exists='replace')\n",
    "df6.to_sql('TempArtists', engine, index=False, if_exists='replace')\n",
    "df7.to_sql('TempTracks', engine, index=False, if_exists='replace')\n",
    "df8.to_sql('TopArtists', engine, index=False, if_exists='replace')\n",
    "df9.to_sql('TopTracks', engine, index=False, if_exists='replace')\n",
    "df10.to_sql('TopGenres', engine, index=False, if_exists='replace')\n",
    "df11.to_sql('Tracks', engine, index=False, if_exists='replace')\n",
    "df12.to_sql('UserProfiles', engine, index=False, if_exists='replace')\n",
    "df13.to_sql('Users', engine, index=False, if_exists='replace')"
   ]
  },
  {
   "cell_type": "code",
   "execution_count": 5,
   "metadata": {},
   "outputs": [],
   "source": [
    "engine.dispose()"
   ]
  },
  {
   "cell_type": "code",
   "execution_count": null,
   "metadata": {},
   "outputs": [],
   "source": []
  }
 ],
 "metadata": {
  "kernelspec": {
   "display_name": "Python 3",
   "language": "python",
   "name": "python3"
  },
  "language_info": {
   "codemirror_mode": {
    "name": "ipython",
    "version": 3
   },
   "file_extension": ".py",
   "mimetype": "text/x-python",
   "name": "python",
   "nbconvert_exporter": "python",
   "pygments_lexer": "ipython3",
   "version": "3.8.5"
  }
 },
 "nbformat": 4,
 "nbformat_minor": 4
}
