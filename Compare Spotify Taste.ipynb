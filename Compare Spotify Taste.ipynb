{
 "cells": [
  {
   "cell_type": "code",
   "execution_count": 2,
   "metadata": {},
   "outputs": [],
   "source": [
    "import pandas as pd\n",
    "\n",
    "df_a = pd.read_csv('data/TopArtists.csv')\n",
    "df_t = pd.read_csv('data/TopTracks.csv')\n",
    "df_g = pd.read_csv('data/TopGenres.csv')\n",
    "df_m = pd.read_csv('data/MusicFeatures.csv')"
   ]
  },
  {
   "cell_type": "code",
   "execution_count": 3,
   "metadata": {},
   "outputs": [
    {
     "data": {
      "text/plain": [
       "array([12153521253, 12120382831])"
      ]
     },
     "execution_count": 3,
     "metadata": {},
     "output_type": "execute_result"
    }
   ],
   "source": [
    "df_a['user_id'].unique()"
   ]
  },
  {
   "cell_type": "code",
   "execution_count": 11,
   "metadata": {},
   "outputs": [],
   "source": [
    "u1_a = df_a.loc[df_a['user_id'] == 12153521253]\n",
    "u1_t = df_t.loc[df_t['user_id'] == 12153521253]\n",
    "u1_g = df_g.loc[df_g['user_id'] == 12153521253]\n",
    "u1_m = df_m.loc[df_m['user_id'] == 12153521253]"
   ]
  },
  {
   "cell_type": "code",
   "execution_count": 12,
   "metadata": {},
   "outputs": [],
   "source": [
    "u2_a = df_a.loc[df_a['user_id'] == 12120382831]\n",
    "u2_t = df_t.loc[df_t['user_id'] == 12120382831]\n",
    "u2_g = df_g.loc[df_g['user_id'] == 12120382831]\n",
    "u2_m = df_m.loc[df_m['user_id'] == 12120382831]"
   ]
  },
  {
   "cell_type": "markdown",
   "metadata": {},
   "source": [
    "## Artists"
   ]
  },
  {
   "cell_type": "code",
   "execution_count": 13,
   "metadata": {},
   "outputs": [
    {
     "data": {
      "text/html": [
       "<div>\n",
       "<style scoped>\n",
       "    .dataframe tbody tr th:only-of-type {\n",
       "        vertical-align: middle;\n",
       "    }\n",
       "\n",
       "    .dataframe tbody tr th {\n",
       "        vertical-align: top;\n",
       "    }\n",
       "\n",
       "    .dataframe thead th {\n",
       "        text-align: right;\n",
       "    }\n",
       "</style>\n",
       "<table border=\"1\" class=\"dataframe\">\n",
       "  <thead>\n",
       "    <tr style=\"text-align: right;\">\n",
       "      <th></th>\n",
       "      <th>user_id</th>\n",
       "      <th>rank</th>\n",
       "      <th>artist_id</th>\n",
       "      <th>timeframe</th>\n",
       "      <th>artist</th>\n",
       "      <th>genres</th>\n",
       "      <th>artist_url</th>\n",
       "      <th>artist_image</th>\n",
       "      <th>popularity</th>\n",
       "    </tr>\n",
       "  </thead>\n",
       "  <tbody>\n",
       "    <tr>\n",
       "      <th>0</th>\n",
       "      <td>12153521253</td>\n",
       "      <td>1</td>\n",
       "      <td>3OpWOvjJnk86geCHrAxkHA</td>\n",
       "      <td>Long</td>\n",
       "      <td>Sungha Jung</td>\n",
       "      <td>acoustic guitar cover; fingerstyle; viral pop</td>\n",
       "      <td>https://open.spotify.com/artist/3OpWOvjJnk86ge...</td>\n",
       "      <td>https://i.scdn.co/image/2084aff5eff3416d8fa89d...</td>\n",
       "      <td>50</td>\n",
       "    </tr>\n",
       "    <tr>\n",
       "      <th>3</th>\n",
       "      <td>12153521253</td>\n",
       "      <td>2</td>\n",
       "      <td>6eUKZXaKkcviH0Ku9w2n3V</td>\n",
       "      <td>Long</td>\n",
       "      <td>Ed Sheeran</td>\n",
       "      <td>pop; uk pop</td>\n",
       "      <td>https://open.spotify.com/artist/6eUKZXaKkcviH0...</td>\n",
       "      <td>https://i.scdn.co/image/c9e693f336bc004af00c51...</td>\n",
       "      <td>92</td>\n",
       "    </tr>\n",
       "    <tr>\n",
       "      <th>5</th>\n",
       "      <td>12153521253</td>\n",
       "      <td>3</td>\n",
       "      <td>04gDigrS5kc9YWfZHwBETP</td>\n",
       "      <td>Long</td>\n",
       "      <td>Maroon 5</td>\n",
       "      <td>pop; pop rock</td>\n",
       "      <td>https://open.spotify.com/artist/04gDigrS5kc9YW...</td>\n",
       "      <td>https://i.scdn.co/image/305c7c493ca5c108ade08d...</td>\n",
       "      <td>88</td>\n",
       "    </tr>\n",
       "    <tr>\n",
       "      <th>6</th>\n",
       "      <td>12153521253</td>\n",
       "      <td>4</td>\n",
       "      <td>44insiIQApkRaCMIbuaISJ</td>\n",
       "      <td>Long</td>\n",
       "      <td>Joey Pecoraro</td>\n",
       "      <td>chillhop; lo-fi beats</td>\n",
       "      <td>https://open.spotify.com/artist/44insiIQApkRaC...</td>\n",
       "      <td>https://i.scdn.co/image/af76a3b950e634842d96ad...</td>\n",
       "      <td>60</td>\n",
       "    </tr>\n",
       "    <tr>\n",
       "      <th>9</th>\n",
       "      <td>12153521253</td>\n",
       "      <td>5</td>\n",
       "      <td>7n2wHs1TKAczGzO7Dd2rGr</td>\n",
       "      <td>Long</td>\n",
       "      <td>Shawn Mendes</td>\n",
       "      <td>canadian pop; dance pop; pop; post-teen pop; v...</td>\n",
       "      <td>https://open.spotify.com/artist/7n2wHs1TKAczGz...</td>\n",
       "      <td>https://i.scdn.co/image/809b93c47fca237138e539...</td>\n",
       "      <td>92</td>\n",
       "    </tr>\n",
       "  </tbody>\n",
       "</table>\n",
       "</div>"
      ],
      "text/plain": [
       "       user_id  rank               artist_id timeframe         artist  \\\n",
       "0  12153521253     1  3OpWOvjJnk86geCHrAxkHA      Long    Sungha Jung   \n",
       "3  12153521253     2  6eUKZXaKkcviH0Ku9w2n3V      Long     Ed Sheeran   \n",
       "5  12153521253     3  04gDigrS5kc9YWfZHwBETP      Long       Maroon 5   \n",
       "6  12153521253     4  44insiIQApkRaCMIbuaISJ      Long  Joey Pecoraro   \n",
       "9  12153521253     5  7n2wHs1TKAczGzO7Dd2rGr      Long   Shawn Mendes   \n",
       "\n",
       "                                              genres  \\\n",
       "0      acoustic guitar cover; fingerstyle; viral pop   \n",
       "3                                        pop; uk pop   \n",
       "5                                      pop; pop rock   \n",
       "6                              chillhop; lo-fi beats   \n",
       "9  canadian pop; dance pop; pop; post-teen pop; v...   \n",
       "\n",
       "                                          artist_url  \\\n",
       "0  https://open.spotify.com/artist/3OpWOvjJnk86ge...   \n",
       "3  https://open.spotify.com/artist/6eUKZXaKkcviH0...   \n",
       "5  https://open.spotify.com/artist/04gDigrS5kc9YW...   \n",
       "6  https://open.spotify.com/artist/44insiIQApkRaC...   \n",
       "9  https://open.spotify.com/artist/7n2wHs1TKAczGz...   \n",
       "\n",
       "                                        artist_image  popularity  \n",
       "0  https://i.scdn.co/image/2084aff5eff3416d8fa89d...          50  \n",
       "3  https://i.scdn.co/image/c9e693f336bc004af00c51...          92  \n",
       "5  https://i.scdn.co/image/305c7c493ca5c108ade08d...          88  \n",
       "6  https://i.scdn.co/image/af76a3b950e634842d96ad...          60  \n",
       "9  https://i.scdn.co/image/809b93c47fca237138e539...          92  "
      ]
     },
     "execution_count": 13,
     "metadata": {},
     "output_type": "execute_result"
    }
   ],
   "source": [
    "u1_a.head()"
   ]
  },
  {
   "cell_type": "code",
   "execution_count": 14,
   "metadata": {},
   "outputs": [
    {
     "data": {
      "text/html": [
       "<div>\n",
       "<style scoped>\n",
       "    .dataframe tbody tr th:only-of-type {\n",
       "        vertical-align: middle;\n",
       "    }\n",
       "\n",
       "    .dataframe tbody tr th {\n",
       "        vertical-align: top;\n",
       "    }\n",
       "\n",
       "    .dataframe thead th {\n",
       "        text-align: right;\n",
       "    }\n",
       "</style>\n",
       "<table border=\"1\" class=\"dataframe\">\n",
       "  <thead>\n",
       "    <tr style=\"text-align: right;\">\n",
       "      <th></th>\n",
       "      <th>user_id</th>\n",
       "      <th>rank</th>\n",
       "      <th>artist_id</th>\n",
       "      <th>timeframe</th>\n",
       "      <th>artist</th>\n",
       "      <th>genres</th>\n",
       "      <th>artist_url</th>\n",
       "      <th>artist_image</th>\n",
       "      <th>popularity</th>\n",
       "    </tr>\n",
       "  </thead>\n",
       "  <tbody>\n",
       "    <tr>\n",
       "      <th>1</th>\n",
       "      <td>12120382831</td>\n",
       "      <td>1</td>\n",
       "      <td>5K4W6rqBFWDnAN6FQUkS6x</td>\n",
       "      <td>Long</td>\n",
       "      <td>Kanye West</td>\n",
       "      <td>chicago rap; rap</td>\n",
       "      <td>https://open.spotify.com/artist/5K4W6rqBFWDnAN...</td>\n",
       "      <td>https://i.scdn.co/image/bd1c6fdf3705cf9b7d0c8a...</td>\n",
       "      <td>90</td>\n",
       "    </tr>\n",
       "    <tr>\n",
       "      <th>2</th>\n",
       "      <td>12120382831</td>\n",
       "      <td>2</td>\n",
       "      <td>2elBjNSdBE2Y3f0j1mjrql</td>\n",
       "      <td>Long</td>\n",
       "      <td>Jay Chou</td>\n",
       "      <td>c-pop; mandopop; taiwan pop; zhongguo feng</td>\n",
       "      <td>https://open.spotify.com/artist/2elBjNSdBE2Y3f...</td>\n",
       "      <td>https://i.scdn.co/image/0e5952203ea0140aa5687f...</td>\n",
       "      <td>73</td>\n",
       "    </tr>\n",
       "    <tr>\n",
       "      <th>4</th>\n",
       "      <td>12120382831</td>\n",
       "      <td>3</td>\n",
       "      <td>73sIBHcqh3Z3NyqHKZ7FOL</td>\n",
       "      <td>Long</td>\n",
       "      <td>Childish Gambino</td>\n",
       "      <td>atl hip hop; hip hop; pop rap; rap</td>\n",
       "      <td>https://open.spotify.com/artist/73sIBHcqh3Z3Ny...</td>\n",
       "      <td>https://i.scdn.co/image/2e1d974c14fb66eb5050bf...</td>\n",
       "      <td>80</td>\n",
       "    </tr>\n",
       "    <tr>\n",
       "      <th>7</th>\n",
       "      <td>12120382831</td>\n",
       "      <td>4</td>\n",
       "      <td>1Xyo4u8uXC1ZmMpatF05PJ</td>\n",
       "      <td>Long</td>\n",
       "      <td>The Weeknd</td>\n",
       "      <td>canadian contemporary r&amp;b; canadian pop; pop</td>\n",
       "      <td>https://open.spotify.com/artist/1Xyo4u8uXC1ZmM...</td>\n",
       "      <td>https://i.scdn.co/image/d9a875c37277c35b94c60c...</td>\n",
       "      <td>94</td>\n",
       "    </tr>\n",
       "    <tr>\n",
       "      <th>8</th>\n",
       "      <td>12120382831</td>\n",
       "      <td>5</td>\n",
       "      <td>50co4Is1HCEo8bhOyUWKpn</td>\n",
       "      <td>Long</td>\n",
       "      <td>Young Thug</td>\n",
       "      <td>atl hip hop; atl trap; gangster rap; melodic r...</td>\n",
       "      <td>https://open.spotify.com/artist/50co4Is1HCEo8b...</td>\n",
       "      <td>https://i.scdn.co/image/69ef089edd03d6d5455ed6...</td>\n",
       "      <td>90</td>\n",
       "    </tr>\n",
       "  </tbody>\n",
       "</table>\n",
       "</div>"
      ],
      "text/plain": [
       "       user_id  rank               artist_id timeframe            artist  \\\n",
       "1  12120382831     1  5K4W6rqBFWDnAN6FQUkS6x      Long        Kanye West   \n",
       "2  12120382831     2  2elBjNSdBE2Y3f0j1mjrql      Long          Jay Chou   \n",
       "4  12120382831     3  73sIBHcqh3Z3NyqHKZ7FOL      Long  Childish Gambino   \n",
       "7  12120382831     4  1Xyo4u8uXC1ZmMpatF05PJ      Long        The Weeknd   \n",
       "8  12120382831     5  50co4Is1HCEo8bhOyUWKpn      Long        Young Thug   \n",
       "\n",
       "                                              genres  \\\n",
       "1                                   chicago rap; rap   \n",
       "2         c-pop; mandopop; taiwan pop; zhongguo feng   \n",
       "4                 atl hip hop; hip hop; pop rap; rap   \n",
       "7       canadian contemporary r&b; canadian pop; pop   \n",
       "8  atl hip hop; atl trap; gangster rap; melodic r...   \n",
       "\n",
       "                                          artist_url  \\\n",
       "1  https://open.spotify.com/artist/5K4W6rqBFWDnAN...   \n",
       "2  https://open.spotify.com/artist/2elBjNSdBE2Y3f...   \n",
       "4  https://open.spotify.com/artist/73sIBHcqh3Z3Ny...   \n",
       "7  https://open.spotify.com/artist/1Xyo4u8uXC1ZmM...   \n",
       "8  https://open.spotify.com/artist/50co4Is1HCEo8b...   \n",
       "\n",
       "                                        artist_image  popularity  \n",
       "1  https://i.scdn.co/image/bd1c6fdf3705cf9b7d0c8a...          90  \n",
       "2  https://i.scdn.co/image/0e5952203ea0140aa5687f...          73  \n",
       "4  https://i.scdn.co/image/2e1d974c14fb66eb5050bf...          80  \n",
       "7  https://i.scdn.co/image/d9a875c37277c35b94c60c...          94  \n",
       "8  https://i.scdn.co/image/69ef089edd03d6d5455ed6...          90  "
      ]
     },
     "execution_count": 14,
     "metadata": {},
     "output_type": "execute_result"
    }
   ],
   "source": [
    "u2_a.head()"
   ]
  },
  {
   "cell_type": "code",
   "execution_count": 33,
   "metadata": {},
   "outputs": [
    {
     "data": {
      "text/plain": [
       "76.8135593220339"
      ]
     },
     "execution_count": 33,
     "metadata": {},
     "output_type": "execute_result"
    }
   ],
   "source": [
    "u1_a['popularity'].mean()"
   ]
  },
  {
   "cell_type": "code",
   "execution_count": 20,
   "metadata": {},
   "outputs": [],
   "source": [
    "a1 = u1_a.loc[u1_a['timeframe'] == 'Long']\n",
    "a2 = u2_a.loc[u2_a['timeframe'] == 'Long']"
   ]
  },
  {
   "cell_type": "code",
   "execution_count": 21,
   "metadata": {},
   "outputs": [
    {
     "data": {
      "text/plain": [
       "array(['3OpWOvjJnk86geCHrAxkHA', '6eUKZXaKkcviH0Ku9w2n3V',\n",
       "       '04gDigrS5kc9YWfZHwBETP', '44insiIQApkRaCMIbuaISJ',\n",
       "       '7n2wHs1TKAczGzO7Dd2rGr', '5K4W6rqBFWDnAN6FQUkS6x',\n",
       "       '3AQRLZ9PuTAozP28Skbq8V', '2YZyLoL8N0Wb9xBt1NhZWg',\n",
       "       '2h93pZq0e7k5yf4dywlkpM', '20wkVLutqVOYrc0kxFs7rA',\n",
       "       '4jGPdu95icCKVF31CcFKbS', '3TVXtAsR1Inumwj472S9r4',\n",
       "       '5pKCCKE2ajJHZ9KAiaK11H', '5JZ7CnR6gTvEMKX4g70Amv',\n",
       "       '1Bl6wpkWCQ4KVgnASpvzzA', '3WGpXCj9YhhfX11TToZcXP',\n",
       "       '6qqNVTkY8uBg9cP3Jd7DAH', '49tQo2QULno7gxHutgccqF',\n",
       "       '3mIj9lX2MWuHmhNCA7LSCW', '1anyVhU62p31KFi8MEzkbf',\n",
       "       '3KV3p5EY4AvKxOlhGHORLg', '1uNFoZAHBGtllmzznpCI3s',\n",
       "       '1QAJqy2dA3ihHBFIHRphZj', '4AK6F7OLvEQ5QYCBNiQWHq',\n",
       "       '2wY79sveU1sp5g7SokKOiI', '1Xyo4u8uXC1ZmMpatF05PJ',\n",
       "       '69GGBxA162lTqCwzJG5jLp', '5nCi3BB41mBaMH9gfr6Su0',\n",
       "       '6N1GBr0koYYU0W59ECgg5u', '5P5FTygHyx2G57oszR3Wot',\n",
       "       '7CQwac16i1W5ej8YpuL3dv', '73sIBHcqh3Z3NyqHKZ7FOL',\n",
       "       '4gzpq5DPGxSnKTe4SA8HAU', '4BxCuXFJrSWGi1KHcVqaU4',\n",
       "       '1EpyA68dKpjf7jXmQL88Hy', '5ZS223C6JyBfXasXxrRqOk',\n",
       "       '163tK9Wjr9P9DmM0AVK7lm', '0jNDKefhfSbLR9sFvcPLHo',\n",
       "       '3Gm5F95VdRxW3mqCn8RPBJ', '6LuN9FCkKOj5PcnpouEgny',\n",
       "       '13ubrt8QOOCPljQ2FL1Kca', '7CajNmpbOovFoOoasH2HaY',\n",
       "       '0Vw76uk7P8yVtTClWyOhac', '6vWDO969PvNqNYHIOW5v0m',\n",
       "       '1CoZyIx7UvdxT5c8UkMzHd', '20JZFwl6HVl6yg8a4H3ZqK',\n",
       "       '5Pwc4xIPtQLFEnJriah9YJ', '0jW6R8CVyVohuUJVcuweDI',\n",
       "       '7H6dkUChT5EoOQtUVMg4cN', '06HL4z0CvFAxyc27GXpf02'], dtype=object)"
      ]
     },
     "execution_count": 21,
     "metadata": {},
     "output_type": "execute_result"
    }
   ],
   "source": [
    "a1['artist_id'].unique()"
   ]
  },
  {
   "cell_type": "code",
   "execution_count": 22,
   "metadata": {},
   "outputs": [
    {
     "data": {
      "text/plain": [
       "array(['5K4W6rqBFWDnAN6FQUkS6x', '2elBjNSdBE2Y3f0j1mjrql',\n",
       "       '73sIBHcqh3Z3NyqHKZ7FOL', '1Xyo4u8uXC1ZmMpatF05PJ',\n",
       "       '50co4Is1HCEo8bhOyUWKpn', '69GGBxA162lTqCwzJG5jLp',\n",
       "       '3TVXtAsR1Inumwj472S9r4', '45eNHdiiabvmbp4erw26rg',\n",
       "       '13ubrt8QOOCPljQ2FL1Kca', '1Bl6wpkWCQ4KVgnASpvzzA',\n",
       "       '4V8LLVI7PbaPR0K2TGSxFF', '1EowJ1WwkMzkCkRomFhui7',\n",
       "       '2YZyLoL8N0Wb9xBt1NhZWg', '68kEuyFKyqrdQQLLsmiatm',\n",
       "       '3MZsBdqDrRTJihTHQrO6Dq', '00FQb4jTyendYWaN8pK0wa',\n",
       "       '5IcR3N7QB1j6KBL8eImZ8m', '7CajNmpbOovFoOoasH2HaY',\n",
       "       '23fqKkggKUBHNkbKtXEls4', '3mIj9lX2MWuHmhNCA7LSCW',\n",
       "       '2h93pZq0e7k5yf4dywlkpM', '7dGJo4pcD2V6oG8kP0tJRR',\n",
       "       '3jK9MiCrA42lLAdMGUZpwa', '0Y5tJX1MQlPlqiwlOH1tJY',\n",
       "       '0fA0VVWsXO9YnASrzqfmYu', '7iZtZyCzp3LItcw1wtPI3D',\n",
       "       '6l3HvQ5sa6mXTsMTB19rO5', '1vCWHaC5f2uS3yhpwWbIA6',\n",
       "       '4O15NlyKLIASxsJ0PrXPfz', '6oMuImdp5ZcFhWP0ESe6mG',\n",
       "       '1QAJqy2dA3ihHBFIHRphZj', '1VPmR4DJC1PlOtd0IADAO0',\n",
       "       '2ZRQcIgzPCVaT9XKhXZIzh', '7aA592KWirLsnfb5ulGWvU',\n",
       "       '1G9G7WwrXka3Z1r7aIDjI7', '6fxyWrfmjcbj5d12gXeiNV',\n",
       "       '1RyvyyTE3xzB2ZywiAwp0i', '5cIc3SBFuBLVxJz58W2tU9',\n",
       "       '20wkVLutqVOYrc0kxFs7rA', '4RnBFZRiMLRyZy0AzzTg2C',\n",
       "       '4L0gz16xuM1as1OgYzh1SR', '1URnnhqYAYcrqrcwql10ft',\n",
       "       '3dz0NnIZhtKKeXZxLOxCam', '6TQj5BFPooTa08A7pk8AQ1',\n",
       "       '3Rq3YOF9YG9YfCWD4D56RZ', '15UsOTVnJzReFVN1VCnxy4',\n",
       "       '0c173mlxpT3dSFRgMO8XPh', '0ONHkAv9pCAFxb0zJwDNTy',\n",
       "       '21mKp7DqtSNHhCAU2ugvUw', '5Q81rlcTFh3k6DQJXPdsot'], dtype=object)"
      ]
     },
     "execution_count": 22,
     "metadata": {},
     "output_type": "execute_result"
    }
   ],
   "source": [
    "a2['artist_id'].unique()"
   ]
  }
 ],
 "metadata": {
  "kernelspec": {
   "display_name": "Python 3",
   "language": "python",
   "name": "python3"
  },
  "language_info": {
   "codemirror_mode": {
    "name": "ipython",
    "version": 3
   },
   "file_extension": ".py",
   "mimetype": "text/x-python",
   "name": "python",
   "nbconvert_exporter": "python",
   "pygments_lexer": "ipython3",
   "version": "3.8.5"
  }
 },
 "nbformat": 4,
 "nbformat_minor": 4
}
