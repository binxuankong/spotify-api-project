{
 "cells": [
  {
   "cell_type": "code",
   "execution_count": 1,
   "metadata": {},
   "outputs": [],
   "source": [
    "import pandas as pd\n",
    "\n",
    "df_a = pd.read_csv('data/TopArtists.csv')\n",
    "df_t = pd.read_csv('data/TopTracks.csv')\n",
    "df_g = pd.read_csv('data/TopGenres.csv')\n",
    "df_m = pd.read_csv('data/MusicFeatures.csv')"
   ]
  },
  {
   "cell_type": "code",
   "execution_count": 2,
   "metadata": {},
   "outputs": [
    {
     "data": {
      "text/plain": [
       "array([12153521253, 12120382831])"
      ]
     },
     "execution_count": 2,
     "metadata": {},
     "output_type": "execute_result"
    }
   ],
   "source": [
    "df_a['user_id'].unique()"
   ]
  },
  {
   "cell_type": "code",
   "execution_count": 3,
   "metadata": {},
   "outputs": [],
   "source": [
    "u1_a = df_a.loc[df_a['user_id'] == 12153521253]\n",
    "u1_t = df_t.loc[df_t['user_id'] == 12153521253]\n",
    "u1_g = df_g.loc[df_g['user_id'] == 12153521253]\n",
    "u1_m = df_m.loc[df_m['user_id'] == 12153521253]"
   ]
  },
  {
   "cell_type": "code",
   "execution_count": 4,
   "metadata": {},
   "outputs": [],
   "source": [
    "u2_a = df_a.loc[df_a['user_id'] == 12120382831]\n",
    "u2_t = df_t.loc[df_t['user_id'] == 12120382831]\n",
    "u2_g = df_g.loc[df_g['user_id'] == 12120382831]\n",
    "u2_m = df_m.loc[df_m['user_id'] == 12120382831]"
   ]
  },
  {
   "cell_type": "code",
   "execution_count": 5,
   "metadata": {},
   "outputs": [],
   "source": [
    "def top_to_dict(top_df):\n",
    "    top_dict = {}\n",
    "    top_dict['Short'] = top_df.loc[top_df['timeframe'] == 'Short'].to_dict('records')\n",
    "    top_dict['Medium'] = top_df.loc[top_df['timeframe'] == 'Medium'].to_dict('records')\n",
    "    top_dict['Long'] = top_df.loc[top_df['timeframe'] == 'Long'].to_dict('records')\n",
    "    return top_dict"
   ]
  },
  {
   "cell_type": "code",
   "execution_count": 80,
   "metadata": {},
   "outputs": [],
   "source": [
    "def get_artist_similarity(u1, u2, timeframe='Long'):\n",
    "    df1 = u1.loc[u1['timeframe'] == timeframe, ['artist_id', 'artist', 'rank']]\n",
    "    df2 = u2.loc[u2['timeframe'] == timeframe, ['artist_id', 'artist', 'rank']]\n",
    "    df = df1.merge(df2, on=['artist_id', 'artist'], how='outer').fillna(0)\n",
    "    df['base'] = calculate_score(df[df[['rank_x', 'rank_y']] > 0].min(axis=1))\n",
    "    df.loc[(df['rank_x'] != 0) & (df['rank_y'] != 0), 'score'] = calculate_score(df[df[['rank_x', 'rank_y']] > 0].max(axis=1))\n",
    "    df['score'] = df['score'].fillna(0)\n",
    "    df = df.rename(columns={'rank_x': u1['user_id'].unique()[0], 'rank_y': u2['user_id'].unique()[0]})\n",
    "    return df\n",
    "\n",
    "def get_track_similarity(u1, u2, timeframe='Long'):\n",
    "    df1 = u1.loc[u1['timeframe'] == timeframe, ['track_id', 'track', 'rank']]\n",
    "    df2 = u2.loc[u2['timeframe'] == timeframe, ['track_id', 'track', 'rank']]\n",
    "    df = df1.merge(df2, on=['track_id', 'track'], how='outer').fillna(0)\n",
    "    df['base'] = calculate_score(df[df[['rank_x', 'rank_y']] > 0].min(axis=1))\n",
    "    df.loc[(df['rank_x'] != 0) & (df['rank_y'] != 0), 'score'] = calculate_score(df[df[['rank_x', 'rank_y']] > 0].max(axis=1))\n",
    "    df['score'] = df['score'].fillna(0)\n",
    "    df = df.rename(columns={'rank_x': u1['user_id'].unique()[0], 'rank_y': u2['user_id'].unique()[0]})\n",
    "    return df\n",
    "\n",
    "def calculate_similarity(df):\n",
    "    return round(df.sum()['score'] / df.sum()['base'], 4)\n",
    "\n",
    "def calculate_score(rank, weight=16, shift=4):\n",
    "    return weight / ((0.1 * rank + shift) ** 2) "
   ]
  },
  {
   "cell_type": "code",
   "execution_count": 81,
   "metadata": {},
   "outputs": [
    {
     "data": {
      "text/html": [
       "<div>\n",
       "<style scoped>\n",
       "    .dataframe tbody tr th:only-of-type {\n",
       "        vertical-align: middle;\n",
       "    }\n",
       "\n",
       "    .dataframe tbody tr th {\n",
       "        vertical-align: top;\n",
       "    }\n",
       "\n",
       "    .dataframe thead th {\n",
       "        text-align: right;\n",
       "    }\n",
       "</style>\n",
       "<table border=\"1\" class=\"dataframe\">\n",
       "  <thead>\n",
       "    <tr style=\"text-align: right;\">\n",
       "      <th></th>\n",
       "      <th>artist_id</th>\n",
       "      <th>artist</th>\n",
       "      <th>12153521253</th>\n",
       "      <th>12120382831</th>\n",
       "      <th>base</th>\n",
       "      <th>score</th>\n",
       "    </tr>\n",
       "  </thead>\n",
       "  <tbody>\n",
       "    <tr>\n",
       "      <th>0</th>\n",
       "      <td>3OpWOvjJnk86geCHrAxkHA</td>\n",
       "      <td>Sungha Jung</td>\n",
       "      <td>1.0</td>\n",
       "      <td>0.0</td>\n",
       "      <td>0.951814</td>\n",
       "      <td>0.0</td>\n",
       "    </tr>\n",
       "    <tr>\n",
       "      <th>1</th>\n",
       "      <td>6eUKZXaKkcviH0Ku9w2n3V</td>\n",
       "      <td>Ed Sheeran</td>\n",
       "      <td>2.0</td>\n",
       "      <td>0.0</td>\n",
       "      <td>0.907029</td>\n",
       "      <td>0.0</td>\n",
       "    </tr>\n",
       "    <tr>\n",
       "      <th>2</th>\n",
       "      <td>04gDigrS5kc9YWfZHwBETP</td>\n",
       "      <td>Maroon 5</td>\n",
       "      <td>3.0</td>\n",
       "      <td>0.0</td>\n",
       "      <td>0.865333</td>\n",
       "      <td>0.0</td>\n",
       "    </tr>\n",
       "    <tr>\n",
       "      <th>3</th>\n",
       "      <td>44insiIQApkRaCMIbuaISJ</td>\n",
       "      <td>Joey Pecoraro</td>\n",
       "      <td>4.0</td>\n",
       "      <td>0.0</td>\n",
       "      <td>0.826446</td>\n",
       "      <td>0.0</td>\n",
       "    </tr>\n",
       "    <tr>\n",
       "      <th>4</th>\n",
       "      <td>7n2wHs1TKAczGzO7Dd2rGr</td>\n",
       "      <td>Shawn Mendes</td>\n",
       "      <td>5.0</td>\n",
       "      <td>0.0</td>\n",
       "      <td>0.790123</td>\n",
       "      <td>0.0</td>\n",
       "    </tr>\n",
       "  </tbody>\n",
       "</table>\n",
       "</div>"
      ],
      "text/plain": [
       "                artist_id         artist  12153521253  12120382831      base  \\\n",
       "0  3OpWOvjJnk86geCHrAxkHA    Sungha Jung          1.0          0.0  0.951814   \n",
       "1  6eUKZXaKkcviH0Ku9w2n3V     Ed Sheeran          2.0          0.0  0.907029   \n",
       "2  04gDigrS5kc9YWfZHwBETP       Maroon 5          3.0          0.0  0.865333   \n",
       "3  44insiIQApkRaCMIbuaISJ  Joey Pecoraro          4.0          0.0  0.826446   \n",
       "4  7n2wHs1TKAczGzO7Dd2rGr   Shawn Mendes          5.0          0.0  0.790123   \n",
       "\n",
       "   score  \n",
       "0    0.0  \n",
       "1    0.0  \n",
       "2    0.0  \n",
       "3    0.0  \n",
       "4    0.0  "
      ]
     },
     "execution_count": 81,
     "metadata": {},
     "output_type": "execute_result"
    }
   ],
   "source": [
    "ma = get_artist_similarity(u1_a, u2_a)\n",
    "ma.head()"
   ]
  },
  {
   "cell_type": "code",
   "execution_count": 82,
   "metadata": {},
   "outputs": [
    {
     "data": {
      "text/plain": [
       "0.1414"
      ]
     },
     "execution_count": 82,
     "metadata": {},
     "output_type": "execute_result"
    }
   ],
   "source": [
    "calculate_similarity(ma)"
   ]
  },
  {
   "cell_type": "code",
   "execution_count": 83,
   "metadata": {},
   "outputs": [
    {
     "data": {
      "text/html": [
       "<div>\n",
       "<style scoped>\n",
       "    .dataframe tbody tr th:only-of-type {\n",
       "        vertical-align: middle;\n",
       "    }\n",
       "\n",
       "    .dataframe tbody tr th {\n",
       "        vertical-align: top;\n",
       "    }\n",
       "\n",
       "    .dataframe thead th {\n",
       "        text-align: right;\n",
       "    }\n",
       "</style>\n",
       "<table border=\"1\" class=\"dataframe\">\n",
       "  <thead>\n",
       "    <tr style=\"text-align: right;\">\n",
       "      <th></th>\n",
       "      <th>track_id</th>\n",
       "      <th>track</th>\n",
       "      <th>12153521253</th>\n",
       "      <th>12120382831</th>\n",
       "      <th>base</th>\n",
       "      <th>score</th>\n",
       "    </tr>\n",
       "  </thead>\n",
       "  <tbody>\n",
       "    <tr>\n",
       "      <th>0</th>\n",
       "      <td>1RMJOxR6GRPsBHL8qeC2ux</td>\n",
       "      <td>Best Part (feat. H.E.R.)</td>\n",
       "      <td>1.0</td>\n",
       "      <td>0.0</td>\n",
       "      <td>0.951814</td>\n",
       "      <td>0.0</td>\n",
       "    </tr>\n",
       "    <tr>\n",
       "      <th>1</th>\n",
       "      <td>4SkTfsjWUy2rp40d2Ayfmv</td>\n",
       "      <td>Tired Boy</td>\n",
       "      <td>2.0</td>\n",
       "      <td>0.0</td>\n",
       "      <td>0.907029</td>\n",
       "      <td>0.0</td>\n",
       "    </tr>\n",
       "    <tr>\n",
       "      <th>2</th>\n",
       "      <td>21cEse3PJxwXCRqsh2Xk47</td>\n",
       "      <td>Girlfriend</td>\n",
       "      <td>3.0</td>\n",
       "      <td>0.0</td>\n",
       "      <td>0.865333</td>\n",
       "      <td>0.0</td>\n",
       "    </tr>\n",
       "    <tr>\n",
       "      <th>3</th>\n",
       "      <td>70AvqwCfLnKMj3HvJDCXyW</td>\n",
       "      <td>Your Eyes</td>\n",
       "      <td>4.0</td>\n",
       "      <td>0.0</td>\n",
       "      <td>0.826446</td>\n",
       "      <td>0.0</td>\n",
       "    </tr>\n",
       "    <tr>\n",
       "      <th>4</th>\n",
       "      <td>5wyfaZpVP0lAuEWG9xJ3yA</td>\n",
       "      <td>Fly on the Wall</td>\n",
       "      <td>5.0</td>\n",
       "      <td>0.0</td>\n",
       "      <td>0.790123</td>\n",
       "      <td>0.0</td>\n",
       "    </tr>\n",
       "  </tbody>\n",
       "</table>\n",
       "</div>"
      ],
      "text/plain": [
       "                 track_id                     track  12153521253  12120382831  \\\n",
       "0  1RMJOxR6GRPsBHL8qeC2ux  Best Part (feat. H.E.R.)          1.0          0.0   \n",
       "1  4SkTfsjWUy2rp40d2Ayfmv                 Tired Boy          2.0          0.0   \n",
       "2  21cEse3PJxwXCRqsh2Xk47                Girlfriend          3.0          0.0   \n",
       "3  70AvqwCfLnKMj3HvJDCXyW                 Your Eyes          4.0          0.0   \n",
       "4  5wyfaZpVP0lAuEWG9xJ3yA           Fly on the Wall          5.0          0.0   \n",
       "\n",
       "       base  score  \n",
       "0  0.951814    0.0  \n",
       "1  0.907029    0.0  \n",
       "2  0.865333    0.0  \n",
       "3  0.826446    0.0  \n",
       "4  0.790123    0.0  "
      ]
     },
     "execution_count": 83,
     "metadata": {},
     "output_type": "execute_result"
    }
   ],
   "source": [
    "mt = get_track_similarity(u1_t, u2_t)\n",
    "mt.head()"
   ]
  },
  {
   "cell_type": "code",
   "execution_count": 84,
   "metadata": {},
   "outputs": [
    {
     "data": {
      "text/plain": [
       "0.0"
      ]
     },
     "execution_count": 84,
     "metadata": {},
     "output_type": "execute_result"
    }
   ],
   "source": [
    "calculate_similarity(mt)"
   ]
  },
  {
   "cell_type": "code",
   "execution_count": null,
   "metadata": {},
   "outputs": [],
   "source": []
  }
 ],
 "metadata": {
  "kernelspec": {
   "display_name": "Python 3",
   "language": "python",
   "name": "python3"
  },
  "language_info": {
   "codemirror_mode": {
    "name": "ipython",
    "version": 3
   },
   "file_extension": ".py",
   "mimetype": "text/x-python",
   "name": "python",
   "nbconvert_exporter": "python",
   "pygments_lexer": "ipython3",
   "version": "3.8.5"
  }
 },
 "nbformat": 4,
 "nbformat_minor": 4
}
